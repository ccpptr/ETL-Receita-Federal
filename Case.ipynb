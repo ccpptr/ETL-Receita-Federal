{
  "cells": [
    {
      "cell_type": "markdown",
      "metadata": {
        "id": "view-in-github",
        "colab_type": "text"
      },
      "source": [
        "<a href=\"https://colab.research.google.com/github/ccpptr/ETL-Receita-Federal/blob/main/Case.ipynb\" target=\"_parent\"><img src=\"https://colab.research.google.com/assets/colab-badge.svg\" alt=\"Open In Colab\"/></a>"
      ]
    },
    {
      "cell_type": "markdown",
      "source": [
        "# Considerações:\n",
        "\n",
        "\n",
        "1.   Inicialmente, esbarrei em um erro que nunca havia presenciado antes, no que diz respeito à abertura dos arquivos usando o comando ***pd.read_csv*()*** pois o panda estava esperando um arquivo ***utf8*** enquanto seria necessário um encoding  ***iso8859-1*** ou senão o atributo ***encoding_errors='ignore'***\n",
        "\n",
        "2.   Logo após tive problemas ao abrir a base de dados em meu computador pessoal, em especial o arquivo de Estabelecimentos que possuía mais de 2gb. Portanto tive que partir para uma solução usando o Colab, e ainda assim precisei tomar cuidado com a ordem de execução das células para que não estourasse a RAM disponível.\n",
        "\n",
        "3. Ressalto a importância das soluções vetorizadas oferecidas pelo Pandas como os métodos ***map()/apply()*** e ***merge()/join()/concat()*** em conjunto com os dicionários como uma forma de substituir e otimizar os loops e condicionais tradicionais como ***for*** e ***if***, uma vez que o tempo de execução decai absurdamente e torna o código mais fluido e legível \n",
        "\n",
        "\n"
      ],
      "metadata": {
        "id": "0q8GiowW9o93"
      },
      "id": "0q8GiowW9o93"
    },
    {
      "cell_type": "markdown",
      "source": [
        "Montar o Drive no Colab, ignorar se estiver usando o jupyter notebook no local host"
      ],
      "metadata": {
        "id": "ut1I9xxvzJo4"
      },
      "id": "ut1I9xxvzJo4"
    },
    {
      "cell_type": "code",
      "source": [
        "from google.colab import drive\n",
        "drive.mount('/content/drive')"
      ],
      "metadata": {
        "colab": {
          "base_uri": "https://localhost:8080/"
        },
        "id": "iHGj9uTBLkbA",
        "outputId": "68e4fa27-feff-4579-a1be-38b036112766"
      },
      "id": "iHGj9uTBLkbA",
      "execution_count": null,
      "outputs": [
        {
          "output_type": "stream",
          "name": "stdout",
          "text": [
            "Drive already mounted at /content/drive; to attempt to forcibly remount, call drive.mount(\"/content/drive\", force_remount=True).\n"
          ]
        }
      ]
    },
    {
      "cell_type": "markdown",
      "source": [
        "Alterar o diretório onde estão os arquivos da base de dados"
      ],
      "metadata": {
        "id": "F6MXDldy0CM1"
      },
      "id": "F6MXDldy0CM1"
    },
    {
      "cell_type": "code",
      "execution_count": null,
      "id": "43200c46",
      "metadata": {
        "id": "43200c46"
      },
      "outputs": [],
      "source": [
        "import pandas as pd\n",
        "diretorio=\"/content/drive/MyDrive/Colab Notebooks/\"\n"
      ]
    },
    {
      "cell_type": "markdown",
      "source": [
        "Abertura das bases de dados e nomeação das colunas\n"
      ],
      "metadata": {
        "id": "RAmYEZ4F0Mzr"
      },
      "id": "RAmYEZ4F0Mzr"
    },
    {
      "cell_type": "code",
      "execution_count": null,
      "id": "fdbe968b",
      "metadata": {
        "colab": {
          "base_uri": "https://localhost:8080/"
        },
        "id": "fdbe968b",
        "outputId": "7757885d-3a86-4c55-fdfc-e3a9e9dd7808"
      },
      "outputs": [
        {
          "output_type": "stream",
          "name": "stderr",
          "text": [
            "/usr/local/lib/python3.7/dist-packages/IPython/core/interactiveshell.py:2882: DtypeWarning: Columns (8,21,22,24,26,28) have mixed types.Specify dtype option on import or set low_memory=False.\n",
            "  exec(code_obj, self.user_global_ns, self.user_ns)\n"
          ]
        }
      ],
      "source": [
        "#Abertura dos arquivos das bases de dados\n",
        "estabele= pd.read_csv('/content/drive/MyDrive/Colab Notebooks/K3241.K03200Y0.D20514.ESTABELE', sep=';', encoding='iso8859-1')\n",
        "empresa = pd.read_csv(diretorio+'K3241.K03200Y0.D20514.EMPRECSV', sep=';',encoding='iso8859-1')\n",
        "socio = pd.read_csv('/content/drive/MyDrive/Colab Notebooks/K3241.K03200Y0.D20514.SOCIOCSV', sep=';', encoding='iso8859-1')\n",
        "\n",
        "#NOMEAR AS COLUNAS\n",
        "socio.columns = [\"CNPJ BÁSICO\", \"IDENTIFICADOR DE SÓCIO\", \"NOME DO SÓCIO OU RAZÃO SOCIAL\", \"CNPJ/CPF DO SÓCIO\",\n",
        "              \"QUALIFICAÇÃO DO SÓCIO\", \"DATA DE ENTRADA SOCIEDADE\", \"PAÍS SÓCIO\", \"REPRESENTANTE LEGAL\", \n",
        "              \"NOME DO REPRESENTATE\", \"QUALIFICAÇÃO DO REPRESENTANTE LEGAL\", \"FAIXA ETÁRIA\"]\n",
        "estabele.columns = [\"CNPJ BÁSICO\", \"CNPJ ORDEM\", \"CNPJ DV\", \"ID MATRIZ/FILIAL\", \"NOME FANTASIA\", \n",
        "                 \"SITUAÇÃO CADASTRAL\",\"DATA SITUAÇÃO CADASTRAL\", \"MOTIVO SITUAÇÃO CADASTRAL\", \"NOME DA CIDADE NO EXTERIOR\",\n",
        "                 \"PAÍS\", \"DATA DE INICIO ATIVIDADE\", \"CNAE FISCAL PRINCIPAL\", \"CNAE FISCAL SECUNDÁRIA\",\n",
        "                 \"TIPO DE LOUGRADOURO\", \"LOUGRADOURO\", \"NUMERO\", \"COMPLEMENTO\", \"BAIRRO\", \"CEP\", \"UF\",\n",
        "                 \"MUNICÍPIO\", \"DDD 1\",\"TELEFONE 1\", \"DDD 2\", \"TELEFONE 2\", \"DDD DO FAX\", \"FAX\",\n",
        "                 \"CORREIO ELETRÔNICO\", \"SITUAÇÃO ESPECIAL\", \"DATA DA SITUAÇÃO\"]\n",
        "empresa.columns = [\"CNPJ BÁSICO\", \"RAZÃO SOCIAL\", \"NATUREZA JURÍDICA\", \"QUALIFICAÇÃO DO RESPONSÁVEL\",\n",
        "                 \"CAPITAL SOCIAL\", \"PORTE DA EMPRESA\", \"ENTE FEDERATIVO RESPONSÁVEL\"]\n"
      ]
    },
    {
      "cell_type": "markdown",
      "source": [
        "Merges das bases de dados de forma a combinar somente as linhas que possuem o \"CNPJ BÁSICO\" em comum, primeiro para as empresas e depois para os sócios, usando a base de dados dos estabelecimentos como o DataFrame principal."
      ],
      "metadata": {
        "id": "6iERHhYLH0GN"
      },
      "id": "6iERHhYLH0GN"
    },
    {
      "cell_type": "code",
      "source": [
        "#socio=socio.drop(columns = ['PAÍS'])\n",
        "estabele = pd.merge(estabele, empresa, how='inner', on =\"CNPJ BÁSICO\")\n",
        "estabele = pd.merge(estabele, socio, how='inner', on =\"CNPJ BÁSICO\")"
      ],
      "metadata": {
        "id": "xhsc682xH0kU"
      },
      "id": "xhsc682xH0kU",
      "execution_count": null,
      "outputs": []
    },
    {
      "cell_type": "markdown",
      "source": [
        "Substituição dos Códigos pelos valores das tabelas\n",
        "\n",
        "\n"
      ],
      "metadata": {
        "id": "9QuetjQCxuJF"
      },
      "id": "9QuetjQCxuJF"
    },
    {
      "cell_type": "code",
      "source": [
        "################################\n",
        "############TABELAS#############\n",
        "################################\n",
        "tabela_cnae = pd.read_csv('/content/drive/MyDrive/Colab Notebooks/F.K03200$Z.D20514.CNAECSV', sep=';', encoding='iso8859-1')\n",
        "tabela_motivo = pd.read_csv('/content/drive/MyDrive/Colab Notebooks/F.K03200$Z.D20514.MOTICSV', sep=';', encoding='iso8859-1')\n",
        "tabela_municipio = pd.read_csv('/content/drive/MyDrive/Colab Notebooks/F.K03200$Z.D20514.MUNICCSV', sep=';', encoding='iso8859-1')\n",
        "tabela_pais = pd.read_csv('/content/drive/MyDrive/Colab Notebooks/F.K03200$Z.D20514.PAISCSV', sep=';', encoding='iso8859-1')\n",
        "tabela_natjur= pd.read_csv(diretorio+'F.K03200$Z.D20514.NATJUCSV', sep=';', encoding='iso8859-1')\n",
        "tabela_qualsocio= pd.read_csv('/content/drive/MyDrive/Colab Notebooks/F.K03200$Z.D20514.QUALSCSV', sep=';', encoding='iso8859-1')\n",
        "\n",
        "dictcnae = {tabela_cnae.iloc[i,0]:tabela_cnae.iloc[i,1]for i in range(len(tabela_cnae.index))}\n",
        "estabele[\"CNAE FISCAL PRINCIPAL\"]=estabele[\"CNAE FISCAL PRINCIPAL\"].map(dictcnae)\n",
        "estabele[\"CNAE FISCAL SECUNDÁRIA\"]=estabele[\"CNAE FISCAL SECUNDÁRIA\"].map(dictcnae)\n",
        "\n",
        "dictmotivo = {tabela_motivo.iloc[i,0]:tabela_motivo.iloc[i,1]for i in range(len(tabela_motivo.index))}\n",
        "estabele[\"MOTIVO SITUAÇÃO CADASTRAL\"]=estabele[\"MOTIVO SITUAÇÃO CADASTRAL\"].map(dictmotivo)\n",
        "\n",
        "dictmunicipio = {tabela_municipio.iloc[i,0]:tabela_municipio.iloc[i,1]for i in range(len(tabela_municipio.index))}\n",
        "estabele[\"MUNICÍPIO\"]=estabele[\"MUNICÍPIO\"].map(dictmunicipio)\n",
        "\n",
        "dictpais = {tabela_pais.iloc[i,0]:tabela_pais.iloc[i,1]for i in range(len(tabela_pais.index))}\n",
        "estabele[\"PAÍS\"]=estabele[\"PAÍS\"].map(dictpais)\n",
        "estabele[\"PAÍS SÓCIO\"]=estabele[\"PAÍS SÓCIO\"].map(dictpais)\n",
        "\n",
        "dictnatjur = {tabela_natjur.iloc[i,0]:tabela_natjur.iloc[i,1]for i in range(len(tabela_natjur.index))}\n",
        "estabele[\"NATUREZA JURÍDICA\"]=estabele[\"NATUREZA JURÍDICA\"].map(dictnatjur)\n",
        "\n",
        "dictqualsocio = {tabela_qualsocio.iloc[i,0]:tabela_qualsocio.iloc[i,1]for i in range(len(tabela_qualsocio.index))}\n",
        "estabele[\"QUALIFICAÇÃO DO SÓCIO\"]=estabele[\"QUALIFICAÇÃO DO SÓCIO\"].map(dictqualsocio)\n"
      ],
      "metadata": {
        "id": "Ah9-OMX6tYUy"
      },
      "id": "Ah9-OMX6tYUy",
      "execution_count": null,
      "outputs": []
    },
    {
      "cell_type": "markdown",
      "source": [
        "Dicionários auxiliares presentes no NOVO LAYOUT da RF"
      ],
      "metadata": {
        "id": "FOHjGtz7jADS"
      },
      "id": "FOHjGtz7jADS"
    },
    {
      "cell_type": "code",
      "source": [
        "#porte da empresa\n",
        "dictporte = {\"00\":\"Não Informado\", \"01\":\"Micro Empresa\", \"03\":\"Empresa de Pequeno Porte\",\"05\":\"Demais\"}\n",
        "estabele[\"PORTE DA EMPRESA\"]=estabele[\"PORTE DA EMPRESA\"].map(dictporte)\n",
        "\n",
        "#id matriz/filial\n",
        "dictid = {1:\"Matriz\",2:\"Filial\"}\n",
        "estabele[\"ID MATRIZ/FILIAL\"]=estabele[\"ID MATRIZ/FILIAL\"].map(dictid)\n",
        "\n",
        "#situação cadastral\n",
        "dictsitu = {\"01\":\"Nula\", \"2\":\"Ativa\", \"3\":\"Suspensa\", \"4\":\"Inapta\", \"08\":\"Baixada\"}\n",
        "estabele[\"SITUAÇÃO CADASTRAL\"]=estabele[\"SITUAÇÃO CADASTRAL\"].map(dictsitu)\n",
        "\n",
        "#id socio\n",
        "dictidsocio = {1:\"Pessoa Jurídica\", 2:\"Pessoa Física\",3:\"Estrangeiro\"}\n",
        "estabele[\"IDENTIFICADOR DE SÓCIO\"]=estabele[\"IDENTIFICADOR DE SÓCIO\"].map(dictidsocio)"
      ],
      "metadata": {
        "id": "VwdBExWii_k2"
      },
      "id": "VwdBExWii_k2",
      "execution_count": null,
      "outputs": []
    },
    {
      "cell_type": "markdown",
      "source": [
        "Ordenar a base final pelo \"CNPJ BÁSICO\" de forma decrescente, remover as colunas vazias e imprimir as 1000 primeiras linhas num Output de Excel"
      ],
      "metadata": {
        "id": "YWndyNRtG8Yg"
      },
      "id": "YWndyNRtG8Yg"
    },
    {
      "cell_type": "code",
      "source": [
        "estabele=estabele.sort_values(estabele.columns[0], ascending=False)\n",
        "estabele=estabele.head(999)\n",
        "estabele=estabele.dropna(axis=1, how='all', thresh=None, subset=None, inplace=False)\n",
        "estabele.to_excel(\"/content/drive/MyDrive/Colab Notebooks/base_final.xls\", index=False)\n",
        "estabele.to_excel(\"/content/drive/MyDrive/Colab Notebooks/base_final.xlsx\", index=False)"
      ],
      "metadata": {
        "id": "UCUCtpQ_G8Yl",
        "colab": {
          "base_uri": "https://localhost:8080/"
        },
        "outputId": "3a8526cd-9247-4579-d385-174828a3060c"
      },
      "execution_count": null,
      "outputs": [
        {
          "output_type": "stream",
          "name": "stderr",
          "text": [
            "/usr/local/lib/python3.7/dist-packages/ipykernel_launcher.py:4: FutureWarning: As the xlwt package is no longer maintained, the xlwt engine will be removed in a future version of pandas. This is the only engine in pandas that supports writing in the xls format. Install openpyxl and write to an xlsx file instead. You can set the option io.excel.xls.writer to 'xlwt' to silence this warning. While this option is deprecated and will also raise a warning, it can be globally set and the warning suppressed.\n",
            "  after removing the cwd from sys.path.\n"
          ]
        }
      ],
      "id": "UCUCtpQ_G8Yl"
    }
  ],
  "metadata": {
    "kernelspec": {
      "display_name": "Python 3 (ipykernel)",
      "language": "python",
      "name": "python3"
    },
    "language_info": {
      "codemirror_mode": {
        "name": "ipython",
        "version": 3
      },
      "file_extension": ".py",
      "mimetype": "text/x-python",
      "name": "python",
      "nbconvert_exporter": "python",
      "pygments_lexer": "ipython3",
      "version": "3.9.12"
    },
    "colab": {
      "name": "Case.ipynb",
      "provenance": [],
      "collapsed_sections": [],
      "include_colab_link": true
    }
  },
  "nbformat": 4,
  "nbformat_minor": 5
}